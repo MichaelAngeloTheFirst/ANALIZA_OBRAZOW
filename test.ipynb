{
 "cells": [
  {
   "cell_type": "code",
   "execution_count": 1,
   "metadata": {},
   "outputs": [
    {
     "name": "stderr",
     "output_type": "stream",
     "text": [
      "2022-12-02 20:19:07.166579: E tensorflow/stream_executor/cuda/cuda_blas.cc:2981] Unable to register cuBLAS factory: Attempting to register factory for plugin cuBLAS when one has already been registered\n"
     ]
    }
   ],
   "source": [
    "# define and move to dataset directory\n",
    "datasetdir = 'train'\n",
    "import os\n",
    "os.chdir(datasetdir)\n",
    "os.environ['TF_CPP_MIN_LOG_LEVEL'] = '2'\n",
    "# import the needed packages\n",
    "\n",
    "import numpy as np\n",
    "import tensorflow as tf\n",
    "import matplotlib.pyplot as plt\n",
    "import matplotlib.image as img\n",
    "from tensorflow import keras\n",
    "config = tf.compat.v1.ConfigProto()\n",
    "config.gpu_options.allow_growth = True\n",
    "session = tf.compat.v1.Session(config=config)\n",
    "\n",
    "\n",
    "\n",
    "\n",
    "\n"
   ]
  },
  {
   "cell_type": "code",
   "execution_count": 2,
   "metadata": {},
   "outputs": [],
   "source": [
    "\n",
    "# shortcut to the ImageDataGenerator class\n",
    "ImageDataGenerator = keras.preprocessing.image.ImageDataGenerator"
   ]
  },
  {
   "cell_type": "code",
   "execution_count": 3,
   "metadata": {},
   "outputs": [],
   "source": [
    "gen = ImageDataGenerator()\n"
   ]
  },
  {
   "cell_type": "code",
   "execution_count": 4,
   "metadata": {},
   "outputs": [
    {
     "name": "stdout",
     "output_type": "stream",
     "text": [
      "Found 404 images belonging to 3 classes.\n",
      "(256, 256, 3)\n"
     ]
    }
   ],
   "source": [
    "\n",
    "\n",
    "iterator = gen.flow_from_directory(\n",
    "    os.getcwd(), \n",
    "    target_size=(256,256), \n",
    "    classes=('Deinopis_Spider','Red_Knee_Tarantula', 'Peacock_Spider'),\n",
    "    color_mode = 'rgb'\n",
    ")\n",
    "# # print(np.shape(iterator))\n",
    "# print(len(iterator))\n",
    "# type(iterator[0]) #iterator ma ilosc bachy\n",
    "\n",
    "print(np.shape(iterator[0][0][0])) #pierwszy obrazek z pierwszego batcha \n",
    "# # |pierwsze zero to ktory batch | drugie to tupel |  trzcie to wyciagniecie z batcha pierwszego obrazka\n",
    "# plt.imshow(iterator[0][0][0])\n",
    "\n",
    "\n",
    "\n",
    "\n"
   ]
  },
  {
   "cell_type": "code",
   "execution_count": 5,
   "metadata": {},
   "outputs": [],
   "source": [
    "batch = iterator.next()\n",
    "# len(batch)\n"
   ]
  },
  {
   "cell_type": "code",
   "execution_count": 6,
   "metadata": {},
   "outputs": [],
   "source": [
    "\n",
    "# def plot_images(batch):\n",
    "#     imgs = batch[0]\n",
    "#     labels = batch[1]\n",
    "#     ncols, nrows = 4,8\n",
    "#     fig = plt.figure( figsize=(ncols*3, nrows*3), dpi=90)\n",
    "#     for i, (img,label) in enumerate(zip(imgs,labels)):\n",
    "#       plt.subplot(nrows, ncols, i+1)\n",
    "#       plt.imshow(img.astype(np.int))\n",
    "#       assert(label[0]+label[1]==1.)\n",
    "#       categ = 'dein' if label[0]>0.5 else 'red'\n",
    "#       print(label[0], \" l1: \", label[1])\n",
    "#       plt.title( '{} {}'.format(str(label), categ))\n",
    "#       plt.axis('off')\n",
    "\n",
    "# plot_images(batch)"
   ]
  },
  {
   "cell_type": "code",
   "execution_count": 7,
   "metadata": {},
   "outputs": [],
   "source": [
    "# from sklearn.preprocessing import MultiLabelBinarizer as mlb\n",
    "\n",
    "# labels = {0: 'gladiator', 1:'red', 2 : 'pea'}\n",
    "# mlb =  MultiLabelBinarizer()\n",
    "# mlb.fit(labels)\n",
    "\n",
    "imgdatagen = ImageDataGenerator(\n",
    "    rescale = 1/255., \n",
    "    validation_split = 0.2\n",
    ")"
   ]
  },
  {
   "cell_type": "code",
   "execution_count": 8,
   "metadata": {},
   "outputs": [
    {
     "name": "stdout",
     "output_type": "stream",
     "text": [
      "Found 324 images belonging to 3 classes.\n",
      "Found 80 images belonging to 3 classes.\n"
     ]
    }
   ],
   "source": [
    "batch_size = 32\n",
    "height, width = (256,256)\n",
    "\n",
    "train_dataset = imgdatagen.flow_from_directory(\n",
    "    os.getcwd(),\n",
    "    target_size = (height, width), \n",
    "    classes = ('Deinopis_Spider','Red_Knee_Tarantula','Peacock_Spider'),\n",
    "    batch_size = batch_size,\n",
    "    subset = 'training',\n",
    "    shuffle = True,\n",
    "    class_mode=\"sparse\",\n",
    "    color_mode=\"rgb\"\n",
    ")\n",
    "\n",
    "val_dataset = imgdatagen.flow_from_directory(\n",
    "    os.getcwd(),\n",
    "    target_size = (height, width), \n",
    "    classes = ('Deinopis_Spider','Red_Knee_Tarantula','Peacock_Spider'),\n",
    "    batch_size = batch_size,\n",
    "    subset = 'validation',\n",
    "    shuffle = True,\n",
    "    class_mode=\"sparse\",\n",
    "    color_mode=\"rgb\"\n",
    ")"
   ]
  },
  {
   "cell_type": "code",
   "execution_count": 9,
   "metadata": {},
   "outputs": [
    {
     "name": "stdout",
     "output_type": "stream",
     "text": [
      "Model: \"sequential\"\n",
      "_________________________________________________________________\n",
      " Layer (type)                Output Shape              Param #   \n",
      "=================================================================\n",
      " conv2d (Conv2D)             (None, 252, 252, 24)      1824      \n",
      "                                                                 \n",
      " max_pooling2d (MaxPooling2D  (None, 126, 126, 24)     0         \n",
      " )                                                               \n",
      "                                                                 \n",
      " conv2d_1 (Conv2D)           (None, 122, 122, 48)      28848     \n",
      "                                                                 \n",
      " max_pooling2d_1 (MaxPooling  (None, 61, 61, 48)       0         \n",
      " 2D)                                                             \n",
      "                                                                 \n",
      " conv2d_2 (Conv2D)           (None, 57, 57, 96)        115296    \n",
      "                                                                 \n",
      " flatten (Flatten)           (None, 311904)            0         \n",
      "                                                                 \n",
      " dropout (Dropout)           (None, 311904)            0         \n",
      "                                                                 \n",
      " dense (Dense)               (None, 3)                 935715    \n",
      "                                                                 \n",
      "=================================================================\n",
      "Total params: 1,081,683\n",
      "Trainable params: 1,081,683\n",
      "Non-trainable params: 0\n",
      "_________________________________________________________________\n"
     ]
    }
   ],
   "source": [
    "model = keras.models.Sequential()\n",
    "\n",
    "initializers = {\n",
    "    \n",
    "}\n",
    "model.add( \n",
    "    keras.layers.Conv2D(\n",
    "        24, 5, input_shape=(256,256,3), \n",
    "        activation='relu', \n",
    "    )\n",
    ")\n",
    "model.add( keras.layers.MaxPooling2D(2) )\n",
    "model.add( \n",
    "    keras.layers.Conv2D(\n",
    "        48, 5, activation='relu', \n",
    "    )\n",
    ")\n",
    "model.add( keras.layers.MaxPooling2D(2) )\n",
    "model.add( \n",
    "    keras.layers.Conv2D(\n",
    "        96, 5, activation='relu', \n",
    "    )\n",
    ")\n",
    "model.add( keras.layers.Flatten() )\n",
    "model.add( keras.layers.Dropout(0.9) )\n",
    "\n",
    "model.add( keras.layers.Dense(\n",
    "    3, activation='softmax',\n",
    "    )\n",
    ")\n",
    "\n",
    "model.summary()"
   ]
  },
  {
   "cell_type": "code",
   "execution_count": 10,
   "metadata": {},
   "outputs": [],
   "source": [
    "model.compile(optimizer = \"adam\",loss='sparse_categorical_crossentropy',\n",
    "              metrics=['acc'])"
   ]
  },
  {
   "cell_type": "code",
   "execution_count": 11,
   "metadata": {},
   "outputs": [
    {
     "name": "stdout",
     "output_type": "stream",
     "text": [
      "Epoch 1/10\n",
      "11/11 [==============================] - 19s 2s/step - loss: 1.5152 - acc: 0.3580 - val_loss: 1.0321 - val_acc: 0.4125\n",
      "Epoch 2/10\n",
      "11/11 [==============================] - 19s 2s/step - loss: 1.0399 - acc: 0.4846 - val_loss: 1.0608 - val_acc: 0.6250\n",
      "Epoch 3/10\n",
      "11/11 [==============================] - 20s 2s/step - loss: 0.9581 - acc: 0.5957 - val_loss: 0.7708 - val_acc: 0.6250\n",
      "Epoch 4/10\n",
      "11/11 [==============================] - 20s 2s/step - loss: 0.7063 - acc: 0.7346 - val_loss: 0.6305 - val_acc: 0.8250\n",
      "Epoch 5/10\n",
      "11/11 [==============================] - 19s 2s/step - loss: 0.5853 - acc: 0.7809 - val_loss: 0.6065 - val_acc: 0.8000\n",
      "Epoch 6/10\n",
      "11/11 [==============================] - 19s 2s/step - loss: 0.3867 - acc: 0.8704 - val_loss: 0.5798 - val_acc: 0.8250\n",
      "Epoch 7/10\n",
      "11/11 [==============================] - 20s 2s/step - loss: 0.2811 - acc: 0.9074 - val_loss: 0.5003 - val_acc: 0.7875\n",
      "Epoch 8/10\n",
      "11/11 [==============================] - 19s 2s/step - loss: 0.2789 - acc: 0.8981 - val_loss: 0.8186 - val_acc: 0.7875\n",
      "Epoch 9/10\n",
      "11/11 [==============================] - 19s 2s/step - loss: 0.2245 - acc: 0.9167 - val_loss: 0.7094 - val_acc: 0.8250\n",
      "Epoch 10/10\n",
      "11/11 [==============================] - 19s 2s/step - loss: 0.2124 - acc: 0.9198 - val_loss: 0.5614 - val_acc: 0.8500\n"
     ]
    }
   ],
   "source": [
    "history = model.fit(\n",
    "    train_dataset, \n",
    "    validation_data = val_dataset,\n",
    "    workers=10,\n",
    "    epochs=10,\n",
    "    batch_size = batch_size\n",
    ")"
   ]
  },
  {
   "cell_type": "code",
   "execution_count": 14,
   "metadata": {},
   "outputs": [],
   "source": [
    "import cv2\n",
    "os.chdir(\"../test\")"
   ]
  },
  {
   "cell_type": "code",
   "execution_count": 17,
   "metadata": {},
   "outputs": [
    {
     "name": "stdout",
     "output_type": "stream",
     "text": [
      "1/1 [==============================] - 0s 29ms/step\n"
     ]
    },
    {
     "name": "stderr",
     "output_type": "stream",
     "text": [
      "Clipping input data to the valid range for imshow with RGB data ([0..1] for floats or [0..255] for integers).\n"
     ]
    },
    {
     "name": "stdout",
     "output_type": "stream",
     "text": [
      "[[0. 0. 1.]]\n"
     ]
    },
    {
     "data": {
      "text/plain": [
       "<matplotlib.image.AxesImage at 0x7f9a1c1399a0>"
      ]
     },
     "execution_count": 17,
     "metadata": {},
     "output_type": "execute_result"
    },
    {
     "data": {
      "image/png": "[encoded data removed]",
      "text/plain": [
       "<Figure size 640x480 with 1 Axes>"
      ]
     },
     "metadata": {},
     "output_type": "display_data"
    }
   ],
   "source": [
    "# type(plt.imread(\"Red_Knee_Tarantula/red.069.jpg\"))\n",
    "temp = np.empty((1,256,256,3))\n",
    "temp[0]=cv2.resize(plt.imread(\"test_pajak.jpg\"),(256,256),interpolation= cv2.INTER_NEAREST)\n",
    "\n",
    "print(model.predict([temp]))\n",
    "\n",
    "plt.imshow(temp[0])\n",
    "\n",
    "os.chdir(\"../train\")\n",
    "iterator = gen.flow_from_directory(\n",
    "    os.getcwd(), \n",
    "    target_size=(256,256), \n",
    "    classes=('Deinopis_Spider','Red_Knee_Tarantula', 'Peacock_Spider'),\n",
    "    class_mode = \"sparse\"\n",
    ")\n",
    "\n",
    "\n",
    "val_los , val_acc = model.evaluate(iterator)\n",
    "\n",
    "\n",
    "\n",
    "\n",
    "# loss: 0.0635 - acc: 0.9848 \n"
   ]
  }
 ],
 "metadata": {
  "kernelspec": {
   "display_name": "Python 3.10.4 64-bit",
   "language": "python",
   "name": "python3"
  },
  "language_info": {
   "codemirror_mode": {
    "name": "ipython",
    "version": 3
   },
   "file_extension": ".py",
   "mimetype": "text/x-python",
   "name": "python",
   "nbconvert_exporter": "python",
   "pygments_lexer": "ipython3",
   "version": "3.10.4"
  },
  "orig_nbformat": 4,
  "vscode": {
   "interpreter": {
    "hash": "28b06ec166af8c83e5882731fef908354c2d57d9b46df793dcdb4efcedb4ca54"
   }
  }
 },
 "nbformat": 4,
 "nbformat_minor": 2
}
